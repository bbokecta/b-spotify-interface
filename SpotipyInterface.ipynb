{
 "cells": [
  {
   "cell_type": "code",
   "execution_count": 1,
   "id": "f0288d15-0913-44e7-bf8d-a9d86e4cd62c",
   "metadata": {},
   "outputs": [],
   "source": [
    "import spotipy\n",
    "import json\n",
    "import webbrowser\n",
    "import urllib.request\n",
    "import spotipy.util as util"
   ]
  },
  {
   "cell_type": "code",
   "execution_count": 2,
   "id": "b3269d08-560d-440a-bfd9-88846b5daac7",
   "metadata": {},
   "outputs": [
    {
     "name": "stdout",
     "output_type": "stream",
     "text": [
      "0c153ff273fb4bddab6142632242910\n"
     ]
    }
   ],
   "source": [
    "with open('weather_key.txt', 'r') as weather_file:\n",
    "    weather_key = weather_file.read()\n",
    "print(weather_key)"
   ]
  },
  {
   "cell_type": "code",
   "execution_count": 3,
   "id": "56cbfac7-0533-420f-8248-afbd032e1ee5",
   "metadata": {},
   "outputs": [],
   "source": [
    "url = f\"http://api.weatherapi.com/v1/current.json?key={weather_key}&q=London&aqi=no\"\n",
    "#commit!"
   ]
  },
  {
   "cell_type": "code",
   "execution_count": 4,
   "id": "09e2d847-3a4e-48aa-a2c3-e5f1ecb9d479",
   "metadata": {},
   "outputs": [
    {
     "name": "stdout",
     "output_type": "stream",
     "text": [
      "<http.client.HTTPResponse object at 0x000001452337C430>\n"
     ]
    }
   ],
   "source": [
    "#sending url to the interwebs\n",
    "request = urllib.request.Request(url)\n",
    "\n",
    "response = urllib.request.urlopen(request)\n",
    "print(response)"
   ]
  },
  {
   "cell_type": "code",
   "execution_count": 5,
   "id": "e15826f5-1b6a-4e1a-bea1-442aa6b28ae2",
   "metadata": {},
   "outputs": [
    {
     "name": "stdout",
     "output_type": "stream",
     "text": [
      "<http.client.HTTPResponse object at 0x000001452337C430>\n"
     ]
    }
   ],
   "source": [
    "print(response)"
   ]
  },
  {
   "cell_type": "code",
   "execution_count": 6,
   "id": "2b703ff3-dcbe-482a-a0c4-dd447272697c",
   "metadata": {},
   "outputs": [
    {
     "name": "stdout",
     "output_type": "stream",
     "text": [
      "{'location': {'name': 'London', 'region': 'City of London, Greater London', 'country': 'United Kingdom', 'lat': 51.5171, 'lon': -0.1062, 'tz_id': 'Europe/London', 'localtime_epoch': 1730217746, 'localtime': '2024-10-29 16:02'}, 'current': {'last_updated_epoch': 1730217600, 'last_updated': '2024-10-29 16:00', 'temp_c': 15.3, 'temp_f': 59.5, 'is_day': 1, 'condition': {'text': 'Overcast', 'icon': '//cdn.weatherapi.com/weather/64x64/day/122.png', 'code': 1009}, 'wind_mph': 3.4, 'wind_kph': 5.4, 'wind_degree': 271, 'wind_dir': 'W', 'pressure_mb': 1024.0, 'pressure_in': 30.24, 'precip_mm': 0.0, 'precip_in': 0.0, 'humidity': 82, 'cloud': 50, 'feelslike_c': 15.3, 'feelslike_f': 59.5, 'windchill_c': 14.7, 'windchill_f': 58.4, 'heatindex_c': 14.4, 'heatindex_f': 58.0, 'dewpoint_c': 10.0, 'dewpoint_f': 50.1, 'vis_km': 10.0, 'vis_miles': 6.0, 'uv': 0.1, 'gust_mph': 5.5, 'gust_kph': 8.9}}\n"
     ]
    }
   ],
   "source": [
    "#json.loads (with the s) reads the returned json response and converts it into a python dictionary\n",
    "\n",
    "weather_json = json.loads(response.read())\n",
    "print(weather_json)"
   ]
  },
  {
   "cell_type": "code",
   "execution_count": 7,
   "id": "0011a2d9-c116-4dc4-a964-a944b3d54f28",
   "metadata": {},
   "outputs": [
    {
     "name": "stdout",
     "output_type": "stream",
     "text": [
      "Overcast\n"
     ]
    }
   ],
   "source": [
    "forecast = weather_json['current']['condition']['text']\n",
    "print(forecast)"
   ]
  },
  {
   "cell_type": "code",
   "execution_count": 11,
   "id": "8deb3f14-d866-422f-96a0-269b28db065d",
   "metadata": {},
   "outputs": [],
   "source": [
    "#opening spotify_keys and reading them\n",
    "#'r' = read\n",
    "#json.load reads the JSON string from a text file\n",
    "\n",
    "with open('spotify_keys.json', 'r') as spotify_file:\n",
    "    tokens = json.load(spotify_file)"
   ]
  },
  {
   "cell_type": "code",
   "execution_count": 9,
   "id": "276c51b6-94e6-4e2b-8394-00e7e15d86fd",
   "metadata": {},
   "outputs": [],
   "source": [
    "my_client_id = tokens['client_id']\n",
    "my_client_secret = tokens['client_secret']\n",
    "redirectURI = tokens['redirect']\n",
    "username = tokens['username']"
   ]
  },
  {
   "cell_type": "code",
   "execution_count": 10,
   "id": "6e6d549d-efb2-49ce-b9f0-2bfcf1cb56b8",
   "metadata": {},
   "outputs": [
    {
     "name": "stdin",
     "output_type": "stream",
     "text": [
      "Enter the URL you were redirected to:  https://www.google.com/?code=AQCyG8dkL6l_IR8J4UvjypNWbEQ9QsfNZn56YqzLDjey_kNQuFT_0iHU5JZeDFWGIKXyHuSQi4dpxB8rqPYO-0JsmWSSVTQjb8Wkl3vfTps4LoYQ4G-K6iCdr7CT8YJoLSRSKQ9wghMAbO25ETqFQljapZioMNixhSE7hlipOoTW68G1kxCcukI-RMy_aoUuXYVoACYfMXzsv8-wjKdwqkOMQySS4Xw9gVlwkd4e0vRFdC5MXEGHVmkVSGRlIyfoGdBOFDzUlJ7PIvjvu_9zwIWeG8reIdnqFVGDHA\n"
     ]
    }
   ],
   "source": [
    "#scopes are like permissions for certain data/usability\n",
    "scope = 'user-read-private user-read-playback-state user-modify-playback-state playlist-modify-public'\n",
    "\n",
    "#if your token expires, delete your cache and start again\n",
    "token = util.prompt_for_user_token(username, scope, client_id=my_client_id, client_secret=my_client_secret, redirect_uri=redirectURI)"
   ]
  },
  {
   "cell_type": "code",
   "execution_count": 13,
   "id": "262e0c69-f0ed-4ddc-9486-d6fb79ffa28c",
   "metadata": {},
   "outputs": [],
   "source": [
    "#create an object that can interact with the spotify API\n",
    "sp = spotipy.Spotify(auth=token)"
   ]
  },
  {
   "cell_type": "code",
   "execution_count": 15,
   "id": "2a6b0b4b-fdca-476b-a00d-3187db5d2813",
   "metadata": {},
   "outputs": [],
   "source": [
    "track_results = sp.search(q=forecast, type='track', limit=50)\n",
    "song_data = track_results['tracks']['items']"
   ]
  },
  {
   "cell_type": "code",
   "execution_count": 17,
   "id": "76a98a35-87e3-4bd1-a41e-c3a1372fb8f6",
   "metadata": {},
   "outputs": [
    {
     "name": "stdout",
     "output_type": "stream",
     "text": [
      "{'album': {'album_type': 'album', 'artists': [{'external_urls': {'spotify': 'https://open.spotify.com/artist/0HcyeAioEKhfwVcJAoyN36'}, 'href': 'https://api.spotify.com/v1/artists/0HcyeAioEKhfwVcJAoyN36', 'id': '0HcyeAioEKhfwVcJAoyN36', 'name': 'Knowmadic', 'type': 'artist', 'uri': 'spotify:artist:0HcyeAioEKhfwVcJAoyN36'}], 'available_markets': ['AR', 'AU', 'AT', 'BE', 'BO', 'BR', 'BG', 'CA', 'CL', 'CO', 'CR', 'CY', 'CZ', 'DK', 'DO', 'DE', 'EC', 'EE', 'SV', 'FI', 'FR', 'GR', 'GT', 'HN', 'HK', 'HU', 'IS', 'IE', 'IT', 'LV', 'LT', 'LU', 'MY', 'MT', 'MX', 'NL', 'NZ', 'NI', 'NO', 'PA', 'PY', 'PE', 'PH', 'PL', 'PT', 'SG', 'SK', 'ES', 'SE', 'CH', 'TW', 'TR', 'UY', 'US', 'GB', 'AD', 'LI', 'MC', 'ID', 'JP', 'TH', 'VN', 'RO', 'IL', 'ZA', 'SA', 'AE', 'BH', 'QA', 'OM', 'KW', 'EG', 'MA', 'DZ', 'TN', 'LB', 'JO', 'PS', 'IN', 'BY', 'KZ', 'MD', 'UA', 'AL', 'BA', 'HR', 'ME', 'MK', 'RS', 'SI', 'KR', 'BD', 'PK', 'LK', 'GH', 'KE', 'NG', 'TZ', 'UG', 'AG', 'AM', 'BS', 'BB', 'BZ', 'BT', 'BW', 'BF', 'CV', 'CW', 'DM', 'FJ', 'GM', 'GE', 'GD', 'GW', 'GY', 'HT', 'JM', 'KI', 'LS', 'LR', 'MW', 'MV', 'ML', 'MH', 'FM', 'NA', 'NR', 'NE', 'PW', 'PG', 'PR', 'WS', 'SM', 'ST', 'SN', 'SC', 'SL', 'SB', 'KN', 'LC', 'VC', 'SR', 'TL', 'TO', 'TT', 'TV', 'VU', 'AZ', 'BN', 'BI', 'KH', 'CM', 'TD', 'KM', 'GQ', 'SZ', 'GA', 'GN', 'KG', 'LA', 'MO', 'MR', 'MN', 'NP', 'RW', 'TG', 'UZ', 'ZW', 'BJ', 'MG', 'MU', 'MZ', 'AO', 'CI', 'DJ', 'ZM', 'CD', 'CG', 'IQ', 'LY', 'TJ', 'VE', 'ET', 'XK'], 'external_urls': {'spotify': 'https://open.spotify.com/album/3VXdUre8Kjz3g4HvqwE4ih'}, 'href': 'https://api.spotify.com/v1/albums/3VXdUre8Kjz3g4HvqwE4ih', 'id': '3VXdUre8Kjz3g4HvqwE4ih', 'images': [{'height': 640, 'url': 'https://i.scdn.co/image/ab67616d0000b273eebde9284156a8965e8a1297', 'width': 640}, {'height': 300, 'url': 'https://i.scdn.co/image/ab67616d00001e02eebde9284156a8965e8a1297', 'width': 300}, {'height': 64, 'url': 'https://i.scdn.co/image/ab67616d00004851eebde9284156a8965e8a1297', 'width': 64}], 'name': 'Lately', 'release_date': '2017-01-30', 'release_date_precision': 'day', 'total_tracks': 9, 'type': 'album', 'uri': 'spotify:album:3VXdUre8Kjz3g4HvqwE4ih'}, 'artists': [{'external_urls': {'spotify': 'https://open.spotify.com/artist/0HcyeAioEKhfwVcJAoyN36'}, 'href': 'https://api.spotify.com/v1/artists/0HcyeAioEKhfwVcJAoyN36', 'id': '0HcyeAioEKhfwVcJAoyN36', 'name': 'Knowmadic', 'type': 'artist', 'uri': 'spotify:artist:0HcyeAioEKhfwVcJAoyN36'}], 'available_markets': ['AR', 'AU', 'AT', 'BE', 'BO', 'BR', 'BG', 'CA', 'CL', 'CO', 'CR', 'CY', 'CZ', 'DK', 'DO', 'DE', 'EC', 'EE', 'SV', 'FI', 'FR', 'GR', 'GT', 'HN', 'HK', 'HU', 'IS', 'IE', 'IT', 'LV', 'LT', 'LU', 'MY', 'MT', 'MX', 'NL', 'NZ', 'NI', 'NO', 'PA', 'PY', 'PE', 'PH', 'PL', 'PT', 'SG', 'SK', 'ES', 'SE', 'CH', 'TW', 'TR', 'UY', 'US', 'GB', 'AD', 'LI', 'MC', 'ID', 'JP', 'TH', 'VN', 'RO', 'IL', 'ZA', 'SA', 'AE', 'BH', 'QA', 'OM', 'KW', 'EG', 'MA', 'DZ', 'TN', 'LB', 'JO', 'PS', 'IN', 'BY', 'KZ', 'MD', 'UA', 'AL', 'BA', 'HR', 'ME', 'MK', 'RS', 'SI', 'KR', 'BD', 'PK', 'LK', 'GH', 'KE', 'NG', 'TZ', 'UG', 'AG', 'AM', 'BS', 'BB', 'BZ', 'BT', 'BW', 'BF', 'CV', 'CW', 'DM', 'FJ', 'GM', 'GE', 'GD', 'GW', 'GY', 'HT', 'JM', 'KI', 'LS', 'LR', 'MW', 'MV', 'ML', 'MH', 'FM', 'NA', 'NR', 'NE', 'PW', 'PG', 'PR', 'WS', 'SM', 'ST', 'SN', 'SC', 'SL', 'SB', 'KN', 'LC', 'VC', 'SR', 'TL', 'TO', 'TT', 'TV', 'VU', 'AZ', 'BN', 'BI', 'KH', 'CM', 'TD', 'KM', 'GQ', 'SZ', 'GA', 'GN', 'KG', 'LA', 'MO', 'MR', 'MN', 'NP', 'RW', 'TG', 'UZ', 'ZW', 'BJ', 'MG', 'MU', 'MZ', 'AO', 'CI', 'DJ', 'ZM', 'CD', 'CG', 'IQ', 'LY', 'TJ', 'VE', 'ET', 'XK'], 'disc_number': 1, 'duration_ms': 129630, 'explicit': False, 'external_ids': {'isrc': 'TCACX1734824'}, 'external_urls': {'spotify': 'https://open.spotify.com/track/0HRMPRU3I85I9fdecngu3u'}, 'href': 'https://api.spotify.com/v1/tracks/0HRMPRU3I85I9fdecngu3u', 'id': '0HRMPRU3I85I9fdecngu3u', 'is_local': False, 'name': 'Overcast', 'popularity': 17, 'preview_url': 'https://p.scdn.co/mp3-preview/a4947395cbb22eb5d22adb307d6cf7f6d07866c0?cid=1fb36ccf6d44481a90fd29914c762c36', 'track_number': 3, 'type': 'track', 'uri': 'spotify:track:0HRMPRU3I85I9fdecngu3u'}\n"
     ]
    }
   ],
   "source": [
    "print(song_data[10])"
   ]
  },
  {
   "cell_type": "code",
   "execution_count": 18,
   "id": "6aa97ff8-08f4-480d-a957-1ea8ec80d993",
   "metadata": {},
   "outputs": [
    {
     "name": "stdout",
     "output_type": "stream",
     "text": [
      "['spotify:track:4zWTya8tPMuoyDiJOLq5Vr', 'spotify:track:2n2a7CG0rgXadwWtVXN21F', 'spotify:track:1FbHpjJjWGwH0pYl9XFiSS', 'spotify:track:5tFB3DmcBnS6st75jFQlWB', 'spotify:track:3nyhumqc6usMA1R2XH9UK6', 'spotify:track:5ACLrTERL7b7JQd2ZTfMjz', 'spotify:track:1DB7sjKLuzCoIlSeRulE4Q', 'spotify:track:4JMB7StRYhP9YWrABz5mvv', 'spotify:track:37aUEdbDjLJtct2sbPRYva', 'spotify:track:386Y2BhIiL8qvQihX80F3V', 'spotify:track:0HRMPRU3I85I9fdecngu3u', 'spotify:track:0WOcJN6rOAsgAFTbnCze4J', 'spotify:track:36eCXw0b8seSZl4KtZ2AzJ', 'spotify:track:5cYbYemspYYx4VxdTsvKYO', 'spotify:track:3nHrPC7I2S0nsBT2nzGJSA', 'spotify:track:1oJvrgdil8qHvqF543Upqd', 'spotify:track:0UdssF0wBtkGmbTvCCEQFZ', 'spotify:track:6eT4PDHm2UNjOQDH86THOg', 'spotify:track:3e7ATpok76UbrHG0tAWoWd', 'spotify:track:4Rg2G268G0g5macAixi0ni', 'spotify:track:35xWgCIhFfnTT0FDLdbaZ1', 'spotify:track:1C3uKuptOmuXJqqzuZ6S1V', 'spotify:track:5nhKTXNuUK9gYaHIfGRSdC', 'spotify:track:2e6RYZToDNxzu9LbqiZ9sg', 'spotify:track:5GHeGKTmtXnLcgoT7BJ9Dz', 'spotify:track:59tf1vcYBxwJojkhmKR1Im', 'spotify:track:0M4PcNyGDLhemL0Ro5NeFp', 'spotify:track:5tvwVu70JA7E2yePrmZGRc', 'spotify:track:0wEGo9LsSrSUz9HOtraWAO', 'spotify:track:4geJYumRsMrAChwuSWa5yR', 'spotify:track:0ky21NS98VPCfAcd6xg7Cc', 'spotify:track:1Ny8RoE9nPqyM3xfMjwR81', 'spotify:track:5Ko02ldO65NmVX9GBCU2uV', 'spotify:track:10ZZqCt5vg6Bwy5c21OG2z', 'spotify:track:1LAlLBTGBUO0MDA8IbSysd', 'spotify:track:0nkrBnZNJtO6uwdd1tCLS9', 'spotify:track:0ITvwZjKGEKwiw2w6t0Rco', 'spotify:track:7kcApwUclbIw9B6MuVmqPc', 'spotify:track:6ShMhtk1om88amkkiUrpS9', 'spotify:track:7i2ZntdYyNmcGnptw8Dhbw', 'spotify:track:6ujJmSj0ArAHKrhLwsirGh', 'spotify:track:5AKUFr4GmY4VSIX54hyDi9', 'spotify:track:5ffdNfKHJqtFQofaL8fLCa', 'spotify:track:5wI0QDFwHttWMZhIZVdHH1', 'spotify:track:6u9YLc23CTUnGVzKNj65ou', 'spotify:track:5b45GXKaxTKKKxAY5QOyvY', 'spotify:track:65NDRsNTjKcfWVhqdPJIx9', 'spotify:track:2kPqnlLuVVaGT6xTWVhMtm', 'spotify:track:5fxtzPvQC8L81kEet9owJu', 'spotify:track:38LydFo7ocsTU2d7Me5j8t']\n"
     ]
    }
   ],
   "source": [
    "#need to get the URIs for all desired songs to make a playlist\n",
    "song_uris = []\n",
    "\n",
    "for song in song_data:\n",
    "    song_uris.append(song['uri'])\n",
    "\n",
    "print(song_uris)"
   ]
  },
  {
   "cell_type": "code",
   "execution_count": 20,
   "id": "e53787ff-6fe5-4e2a-a33d-809a8d3ce50a",
   "metadata": {},
   "outputs": [],
   "source": [
    "#this just creates an empty playlist\n",
    "my_playlist = sp.user_playlist_create(user=username, name=forecast, public=True, description=\"songs for the weather\")"
   ]
  },
  {
   "cell_type": "code",
   "execution_count": 21,
   "id": "f6da727c-41b2-4616-909c-0b3186393d47",
   "metadata": {},
   "outputs": [
    {
     "data": {
      "text/plain": [
       "{'snapshot_id': 'AAAAAvTY56d7IjOrRsEn0VFw0mAGYnXF'}"
      ]
     },
     "execution_count": 21,
     "metadata": {},
     "output_type": "execute_result"
    }
   ],
   "source": [
    "#this is how you add the songs\n",
    "sp.user_playlist_add_tracks(username, my_playlist['id'], song_uris)"
   ]
  },
  {
   "cell_type": "code",
   "execution_count": 23,
   "id": "5192e1f1-b00c-45a6-a7a9-dda79772169f",
   "metadata": {},
   "outputs": [
    {
     "data": {
      "text/plain": [
       "True"
      ]
     },
     "execution_count": 23,
     "metadata": {},
     "output_type": "execute_result"
    }
   ],
   "source": [
    "#open the playlist in your browser\n",
    "webbrowser.open(my_playlist['external_urls']['spotify'])"
   ]
  },
  {
   "cell_type": "code",
   "execution_count": null,
   "id": "39607fdd-1a57-4a22-9bef-39b676bc479c",
   "metadata": {},
   "outputs": [],
   "source": [
    "#open the playlist on your app (you need your device ID\n",
    "sp.start_playback(device_id=deviceID, context_uri=my_playlist['uri']"
   ]
  }
 ],
 "metadata": {
  "kernelspec": {
   "display_name": "Python 3 (ipykernel)",
   "language": "python",
   "name": "python3"
  },
  "language_info": {
   "codemirror_mode": {
    "name": "ipython",
    "version": 3
   },
   "file_extension": ".py",
   "mimetype": "text/x-python",
   "name": "python",
   "nbconvert_exporter": "python",
   "pygments_lexer": "ipython3",
   "version": "3.12.7"
  }
 },
 "nbformat": 4,
 "nbformat_minor": 5
}
