{
 "cells": [
  {
   "cell_type": "code",
   "execution_count": 7,
   "id": "f0288d15-0913-44e7-bf8d-a9d86e4cd62c",
   "metadata": {},
   "outputs": [],
   "source": [
    "import spotipy\n",
    "import json\n",
    "import webbrowser\n",
    "import urllib.request\n",
    "import spotipy.util as util"
   ]
  },
  {
   "cell_type": "code",
   "execution_count": 8,
   "id": "b3269d08-560d-440a-bfd9-88846b5daac7",
   "metadata": {},
   "outputs": [
    {
     "name": "stdout",
     "output_type": "stream",
     "text": [
      "0c153ff273fb4bddab6142632242910\n"
     ]
    }
   ],
   "source": [
    "with open('weather_key.txt', 'r') as weather_file:\n",
    "    weather_key = weather_file.read()\n",
    "print(weather_key)"
   ]
  },
  {
   "cell_type": "code",
   "execution_count": 9,
   "id": "56cbfac7-0533-420f-8248-afbd032e1ee5",
   "metadata": {},
   "outputs": [],
   "source": [
    "url = f\"http://api.weatherapi.com/v1/current.json?key={weather_key}&q=London&aqi=no\"\n",
    "#commit!"
   ]
  },
  {
   "cell_type": "code",
   "execution_count": 10,
   "id": "09e2d847-3a4e-48aa-a2c3-e5f1ecb9d479",
   "metadata": {},
   "outputs": [
    {
     "name": "stdout",
     "output_type": "stream",
     "text": [
      "<http.client.HTTPResponse object at 0x000001E3C2724550>\n"
     ]
    }
   ],
   "source": [
    "#sending url to the interwebs\n",
    "request = urllib.request.Request(url)\n",
    "\n",
    "response = urllib.request.urlopen(request)\n",
    "print(response)"
   ]
  },
  {
   "cell_type": "code",
   "execution_count": 11,
   "id": "e15826f5-1b6a-4e1a-bea1-442aa6b28ae2",
   "metadata": {},
   "outputs": [
    {
     "name": "stdout",
     "output_type": "stream",
     "text": [
      "<http.client.HTTPResponse object at 0x000001E3C2724550>\n"
     ]
    }
   ],
   "source": [
    "print(response)"
   ]
  },
  {
   "cell_type": "code",
   "execution_count": 12,
   "id": "2b703ff3-dcbe-482a-a0c4-dd447272697c",
   "metadata": {},
   "outputs": [
    {
     "name": "stdout",
     "output_type": "stream",
     "text": [
      "{'location': {'name': 'London', 'region': 'City of London, Greater London', 'country': 'United Kingdom', 'lat': 51.5171, 'lon': -0.1062, 'tz_id': 'Europe/London', 'localtime_epoch': 1730215465, 'localtime': '2024-10-29 15:24'}, 'current': {'last_updated_epoch': 1730214900, 'last_updated': '2024-10-29 15:15', 'temp_c': 15.1, 'temp_f': 59.2, 'is_day': 1, 'condition': {'text': 'Overcast', 'icon': '//cdn.weatherapi.com/weather/64x64/day/122.png', 'code': 1009}, 'wind_mph': 3.1, 'wind_kph': 5.0, 'wind_degree': 259, 'wind_dir': 'W', 'pressure_mb': 1024.0, 'pressure_in': 30.24, 'precip_mm': 0.0, 'precip_in': 0.0, 'humidity': 82, 'cloud': 50, 'feelslike_c': 15.1, 'feelslike_f': 59.2, 'windchill_c': 15.1, 'windchill_f': 59.1, 'heatindex_c': 14.7, 'heatindex_f': 58.4, 'dewpoint_c': 10.0, 'dewpoint_f': 50.0, 'vis_km': 10.0, 'vis_miles': 6.0, 'uv': 0.5, 'gust_mph': 4.9, 'gust_kph': 8.0}}\n"
     ]
    }
   ],
   "source": [
    "weather_json = json.loads(response.read())\n",
    "print(weather_json)"
   ]
  },
  {
   "cell_type": "code",
   "execution_count": 13,
   "id": "0011a2d9-c116-4dc4-a964-a944b3d54f28",
   "metadata": {},
   "outputs": [
    {
     "name": "stdout",
     "output_type": "stream",
     "text": [
      "Overcast\n"
     ]
    }
   ],
   "source": [
    "forecast = weather_json['current']['condition']['text']\n",
    "print(forecast)"
   ]
  },
  {
   "cell_type": "code",
   "execution_count": null,
   "id": "8deb3f14-d866-422f-96a0-269b28db065d",
   "metadata": {},
   "outputs": [],
   "source": []
  }
 ],
 "metadata": {
  "kernelspec": {
   "display_name": "Python 3 (ipykernel)",
   "language": "python",
   "name": "python3"
  },
  "language_info": {
   "codemirror_mode": {
    "name": "ipython",
    "version": 3
   },
   "file_extension": ".py",
   "mimetype": "text/x-python",
   "name": "python",
   "nbconvert_exporter": "python",
   "pygments_lexer": "ipython3",
   "version": "3.12.7"
  }
 },
 "nbformat": 4,
 "nbformat_minor": 5
}
