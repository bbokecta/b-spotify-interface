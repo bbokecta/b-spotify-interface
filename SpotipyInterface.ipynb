{
 "cells": [
  {
   "cell_type": "code",
   "execution_count": 1,
   "id": "f0288d15-0913-44e7-bf8d-a9d86e4cd62c",
   "metadata": {},
   "outputs": [],
   "source": [
    "import spotipy\n",
    "import json\n",
    "import webbrowser\n",
    "import urllib.request\n",
    "import spotipy.util as util"
   ]
  },
  {
   "cell_type": "code",
   "execution_count": 2,
   "id": "b3269d08-560d-440a-bfd9-88846b5daac7",
   "metadata": {},
   "outputs": [
    {
     "name": "stdout",
     "output_type": "stream",
     "text": [
      "0c153ff273fb4bddab6142632242910\n"
     ]
    }
   ],
   "source": [
    "with open('weather_key.txt', 'r') as weather_file:\n",
    "    weather_key = weather_file.read()\n",
    "print(weather_key)"
   ]
  },
  {
   "cell_type": "code",
   "execution_count": 3,
   "id": "56cbfac7-0533-420f-8248-afbd032e1ee5",
   "metadata": {},
   "outputs": [],
   "source": [
    "url = f\"http://api.weatherapi.com/v1/current.json?key={weather_key}&q=London&aqi=no\"\n",
    "#commit!"
   ]
  },
  {
   "cell_type": "code",
   "execution_count": 4,
   "id": "09e2d847-3a4e-48aa-a2c3-e5f1ecb9d479",
   "metadata": {},
   "outputs": [
    {
     "name": "stdout",
     "output_type": "stream",
     "text": [
      "<http.client.HTTPResponse object at 0x000001452337C430>\n"
     ]
    }
   ],
   "source": [
    "#sending url to the interwebs\n",
    "request = urllib.request.Request(url)\n",
    "\n",
    "response = urllib.request.urlopen(request)\n",
    "print(response)"
   ]
  },
  {
   "cell_type": "code",
   "execution_count": 5,
   "id": "e15826f5-1b6a-4e1a-bea1-442aa6b28ae2",
   "metadata": {},
   "outputs": [
    {
     "name": "stdout",
     "output_type": "stream",
     "text": [
      "<http.client.HTTPResponse object at 0x000001452337C430>\n"
     ]
    }
   ],
   "source": [
    "print(response)"
   ]
  },
  {
   "cell_type": "code",
   "execution_count": 6,
   "id": "2b703ff3-dcbe-482a-a0c4-dd447272697c",
   "metadata": {},
   "outputs": [
    {
     "name": "stdout",
     "output_type": "stream",
     "text": [
      "{'location': {'name': 'London', 'region': 'City of London, Greater London', 'country': 'United Kingdom', 'lat': 51.5171, 'lon': -0.1062, 'tz_id': 'Europe/London', 'localtime_epoch': 1730217746, 'localtime': '2024-10-29 16:02'}, 'current': {'last_updated_epoch': 1730217600, 'last_updated': '2024-10-29 16:00', 'temp_c': 15.3, 'temp_f': 59.5, 'is_day': 1, 'condition': {'text': 'Overcast', 'icon': '//cdn.weatherapi.com/weather/64x64/day/122.png', 'code': 1009}, 'wind_mph': 3.4, 'wind_kph': 5.4, 'wind_degree': 271, 'wind_dir': 'W', 'pressure_mb': 1024.0, 'pressure_in': 30.24, 'precip_mm': 0.0, 'precip_in': 0.0, 'humidity': 82, 'cloud': 50, 'feelslike_c': 15.3, 'feelslike_f': 59.5, 'windchill_c': 14.7, 'windchill_f': 58.4, 'heatindex_c': 14.4, 'heatindex_f': 58.0, 'dewpoint_c': 10.0, 'dewpoint_f': 50.1, 'vis_km': 10.0, 'vis_miles': 6.0, 'uv': 0.1, 'gust_mph': 5.5, 'gust_kph': 8.9}}\n"
     ]
    }
   ],
   "source": [
    "#json.loads (with the s) reads the returned json response and converts it into a python dictionary\n",
    "\n",
    "weather_json = json.loads(response.read())\n",
    "print(weather_json)"
   ]
  },
  {
   "cell_type": "code",
   "execution_count": 7,
   "id": "0011a2d9-c116-4dc4-a964-a944b3d54f28",
   "metadata": {},
   "outputs": [
    {
     "name": "stdout",
     "output_type": "stream",
     "text": [
      "Overcast\n"
     ]
    }
   ],
   "source": [
    "forecast = weather_json['current']['condition']['text']\n",
    "print(forecast)"
   ]
  },
  {
   "cell_type": "code",
   "execution_count": 8,
   "id": "8deb3f14-d866-422f-96a0-269b28db065d",
   "metadata": {},
   "outputs": [
    {
     "name": "stdout",
     "output_type": "stream",
     "text": [
      "{'username': '31chu34c6cgadq437pop2ejov22q', 'client_id': '1fb36ccf6d44481a90fd29914c762c36', 'client_secret': 'b0afa286b9754299aa926a0b814af862', 'redirect': 'https://www.google.com/'}\n"
     ]
    }
   ],
   "source": [
    "#opening spotify_keys and reading them\n",
    "#'r' = read\n",
    "#json.load reads the JSON string from a text file\n",
    "\n",
    "with open('spotify_keys.json', 'r') as spotify_file:\n",
    "    tokens = json.load(spotify_file)\n",
    "\n",
    "print(tokens)"
   ]
  },
  {
   "cell_type": "code",
   "execution_count": 9,
   "id": "276c51b6-94e6-4e2b-8394-00e7e15d86fd",
   "metadata": {},
   "outputs": [],
   "source": [
    "my_client_id = tokens['client_id']\n",
    "my_client_secret = tokens['client_secret']\n",
    "redirectURI = tokens['redirect']\n",
    "username = tokens['username']"
   ]
  },
  {
   "cell_type": "code",
   "execution_count": 10,
   "id": "6e6d549d-efb2-49ce-b9f0-2bfcf1cb56b8",
   "metadata": {},
   "outputs": [
    {
     "name": "stdin",
     "output_type": "stream",
     "text": [
      "Enter the URL you were redirected to:  https://www.google.com/?code=AQCyG8dkL6l_IR8J4UvjypNWbEQ9QsfNZn56YqzLDjey_kNQuFT_0iHU5JZeDFWGIKXyHuSQi4dpxB8rqPYO-0JsmWSSVTQjb8Wkl3vfTps4LoYQ4G-K6iCdr7CT8YJoLSRSKQ9wghMAbO25ETqFQljapZioMNixhSE7hlipOoTW68G1kxCcukI-RMy_aoUuXYVoACYfMXzsv8-wjKdwqkOMQySS4Xw9gVlwkd4e0vRFdC5MXEGHVmkVSGRlIyfoGdBOFDzUlJ7PIvjvu_9zwIWeG8reIdnqFVGDHA\n"
     ]
    }
   ],
   "source": [
    "#scopes are like permissions for certain data/usability\n",
    "scope = 'user-read-private user-read-playback-state user-modify-playback-state playlist-modify-public'\n",
    "\n",
    "token = util.prompt_for_user_token(username, scope, client_id=my_client_id, client_secret=my_client_secret, redirect_uri=redirectURI)"
   ]
  },
  {
   "cell_type": "code",
   "execution_count": null,
   "id": "262e0c69-f0ed-4ddc-9486-d6fb79ffa28c",
   "metadata": {},
   "outputs": [],
   "source": []
  }
 ],
 "metadata": {
  "kernelspec": {
   "display_name": "Python 3 (ipykernel)",
   "language": "python",
   "name": "python3"
  },
  "language_info": {
   "codemirror_mode": {
    "name": "ipython",
    "version": 3
   },
   "file_extension": ".py",
   "mimetype": "text/x-python",
   "name": "python",
   "nbconvert_exporter": "python",
   "pygments_lexer": "ipython3",
   "version": "3.12.7"
  }
 },
 "nbformat": 4,
 "nbformat_minor": 5
}
